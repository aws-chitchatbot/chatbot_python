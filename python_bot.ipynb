{
 "cells": [
  {
   "cell_type": "code",
   "execution_count": 2,
   "id": "3ce0fd42",
   "metadata": {},
   "outputs": [
    {
     "name": "stdout",
     "output_type": "stream",
     "text": [
      "Requirement already satisfied: pywin32 in c:\\users\\user\\anaconda3\\envs\\workspace\\lib\\site-packages (306)\n",
      "Note: you may need to restart the kernel to use updated packages.\n"
     ]
    }
   ],
   "source": [
    "pip install pywin32"
   ]
  },
  {
   "cell_type": "code",
   "execution_count": 3,
   "id": "e596d9e7",
   "metadata": {
    "scrolled": true
   },
   "outputs": [
    {
     "name": "stdout",
     "output_type": "stream",
     "text": [
      "Requirement already satisfied: pywinauto in c:\\users\\user\\anaconda3\\envs\\workspace\\lib\\site-packages (0.6.8)\n",
      "Requirement already satisfied: six in c:\\users\\user\\anaconda3\\envs\\workspace\\lib\\site-packages (from pywinauto) (1.16.0)\n",
      "Requirement already satisfied: comtypes in c:\\users\\user\\anaconda3\\envs\\workspace\\lib\\site-packages (from pywinauto) (1.2.1)\n",
      "Requirement already satisfied: pywin32 in c:\\users\\user\\anaconda3\\envs\\workspace\\lib\\site-packages (from pywinauto) (306)\n",
      "Note: you may need to restart the kernel to use updated packages.\n"
     ]
    }
   ],
   "source": [
    "pip install pywinauto"
   ]
  },
  {
   "cell_type": "code",
   "execution_count": 288,
   "id": "aa0de605",
   "metadata": {},
   "outputs": [],
   "source": [
    "import time, win32con, win32api, win32gui, ctypes, win32com.client\n",
    "from pywinauto import clipboard\n",
    "from pywinauto import application\n",
    "from pywinauto import findwindows\n",
    "import os"
   ]
  },
  {
   "cell_type": "code",
   "execution_count": 280,
   "id": "d6371044",
   "metadata": {},
   "outputs": [],
   "source": [
    "w = win32con\n",
    "\n",
    "PBYTE256 = ctypes.c_ubyte * 256\n",
    "_user32 = ctypes.WinDLL(\"user32\")\n",
    "PUL = ctypes.POINTER(ctypes.c_ulong)\n",
    "\n",
    "GetKeyboardState = _user32.GetKeyboardState\n",
    "SetKeyboardState = _user32.SetKeyboardState\n",
    "\n",
    "PostMessage = win32gui.PostMessage\n",
    "SendMessage = win32gui.SendMessage\n",
    "FindWindow = win32gui.FindWindow\n",
    "IsWindow = win32gui.IsWindow\n",
    "\n",
    "GetCurrentThreadId = win32api.GetCurrentThreadId\n",
    "MakeLong = win32api.MAKELONG\n",
    "\n",
    "GetWindowThreadProcessId = _user32.GetWindowThreadProcessId\n",
    "AttachThreadInput = _user32.AttachThreadInput\n",
    "MapVirtualKeyA = _user32.MapVirtualKeyA\n",
    "MapVirtualKeyW = _user32.MapVirtualKeyW\n",
    "\n",
    "#키 코드\n",
    "Enter = 0x0D\n",
    "EndKey = 0x23\n",
    "F10 = 0x79\n",
    "Tab = 0x09"
   ]
  },
  {
   "cell_type": "code",
   "execution_count": 227,
   "id": "745986fc",
   "metadata": {},
   "outputs": [],
   "source": [
    "# 조합키\n",
    "def PostKeyEx(hwnd, key, shift, specialkey):\n",
    "    if IsWindow(hwnd):\n",
    "\n",
    "        ThreadId = GetWindowThreadProcessId(hwnd, None)\n",
    "        # 아스키 코드값으로 바꿔주는거\n",
    "        lparam = MakeLong(0, MapVirtualKeyA(key, 0))\n",
    "        msg_down = w.WM_KEYDOWN\n",
    "        msg_up = w.WM_KEYUP\n",
    "\n",
    "        if specialkey:\n",
    "            lparam = lparam | 0x1000000\n",
    "\n",
    "        if len(shift) > 0:\n",
    "            pKeyBuffers = PBYTE256()\n",
    "            pKeyBuffers_old = PBYTE256()\n",
    "\n",
    "            SendMessage(hwnd, w.WM_ACTIVATE, w.WA_ACTIVE, 0)\n",
    "            AttachThreadInput(GetCurrentThreadId(), ThreadId, True)\n",
    "            GetKeyboardState(ctypes.byref(pKeyBuffers_old))\n",
    "\n",
    "            for modkey in shift:\n",
    "                if modkey == w.VK_MENU:\n",
    "                    lparam = lparam | 0x20000000\n",
    "                    msg_down = w.WM_SYSKEYDOWN\n",
    "                    msg_up = w.WM_SYSKEYUP\n",
    "                pKeyBuffers[modkey] |= 128\n",
    "\n",
    "            SetKeyboardState(ctypes.byref(pKeyBuffers))\n",
    "            time.sleep(0.01)\n",
    "            PostMessage(hwnd, msg_down, key, lparam)\n",
    "            time.sleep(0.01)\n",
    "            PostMessage(hwnd, msg_up, key, lparam | 0xC0000000)\n",
    "            time.sleep(0.01)\n",
    "            SetKeyboardState(ctypes.byref(pKeyBuffers_old))\n",
    "            time.sleep(0.01)\n",
    "            AttachThreadInput(GetCurrentThreadId(), ThreadId, False)\n",
    "\n",
    "        else:\n",
    "            SendMessage(hwnd, msg_down, key, lparam)\n",
    "            SendMessage(hwnd, msg_up, key, lparam | 0xC0000000)"
   ]
  },
  {
   "cell_type": "code",
   "execution_count": 228,
   "id": "f201757b",
   "metadata": {},
   "outputs": [],
   "source": [
    "#텍스트 입력 및 엔터\n",
    "def SendReturn(hwnd):\n",
    "    win32api.PostMessage(hwnd, win32con.WM_KEYDOWN, win32con.VK_RETURN, 0)\n",
    "    time.sleep(0.01)\n",
    "    win32api.PostMessage(hwnd, win32con.WM_KEYUP, win32con.VK_RETURN, 0)"
   ]
  },
  {
   "cell_type": "code",
   "execution_count": 229,
   "id": "b3e6bb7b",
   "metadata": {},
   "outputs": [],
   "source": [
    "#키 입력 관련 클래스들#\n",
    "class KeyBdInput(ctypes.Structure):\n",
    "    _fields_ = [(\"wVk\", ctypes.c_ushort),\n",
    "                (\"wScan\", ctypes.c_ushort),\n",
    "                (\"dwFlags\", ctypes.c_ulong),\n",
    "                (\"time\", ctypes.c_ulong),\n",
    "                (\"dwExtraInfo\", PUL)]\n",
    "\n",
    "    \n",
    "class HardwareInput(ctypes.Structure):\n",
    "    _fields_ = [(\"uMsg\", ctypes.c_ulong),\n",
    "                (\"wParamL\", ctypes.c_short),\n",
    "                (\"wParamH\", ctypes.c_ushort)]\n",
    "\n",
    "    \n",
    "class MouseInput(ctypes.Structure):\n",
    "    _fields_ = [(\"dx\", ctypes.c_long),\n",
    "                (\"dy\", ctypes.c_long),\n",
    "                (\"mouseData\", ctypes.c_ulong),\n",
    "                (\"dwFlags\", ctypes.c_ulong),\n",
    "                (\"time\",ctypes.c_ulong),\n",
    "                (\"dwExtraInfo\", PUL)]\n",
    "    \n",
    "    \n",
    "class Input_I(ctypes.Union):\n",
    "    _fields_ = [(\"ki\", KeyBdInput),\n",
    "                (\"mi\", MouseInput),\n",
    "                (\"hi\", HardwareInput)]\n",
    "\n",
    "    \n",
    "    \n",
    "class Input(ctypes.Structure):\n",
    "    _fields_ = [(\"type\", ctypes.c_ulong),\n",
    "                (\"ii\", Input_I)]\n",
    "#key 입력 관련 클래스들#\n",
    "\n",
    "\n",
    "#키 누르기\n",
    "def PressKey(hexKeyCode):\n",
    "    extra = ctypes.c_ulong(0)\n",
    "    ii_ = Input_I()\n",
    "    ii_.ki = KeyBdInput(hexKeyCode, 0, 0, 0, ctypes.pointer(extra))\n",
    "    x = Input(ctypes.c_ulong(1), ii_)\n",
    "    ctypes.windll.user32.SendInput(1, ctypes.pointer(x), ctypes.sizeof(x))\n",
    "\n",
    "\n",
    "#키 떼기\n",
    "def ReleaseKey(hexKeyCode):\n",
    "    extra = ctypes.c_ulong(0)\n",
    "    ii_ = Input_I()\n",
    "    ii_.ki = KeyBdInput(hexKeyCode, 0, 0x0002, 0, ctypes.pointer(extra) )\n",
    "    x = Input( ctypes.c_ulong(1), ii_ )\n",
    "    ctypes.windll.user32.SendInput(1, ctypes.pointer(x), ctypes.sizeof(x))"
   ]
  },
  {
   "cell_type": "code",
   "execution_count": 230,
   "id": "cbd35cc5",
   "metadata": {},
   "outputs": [],
   "source": [
    "# # 채팅방 열기\n",
    "def open_chatroom(chatroom_name):\n",
    "    # # 채팅방 목록 검색하는 Edit (채팅방이 열려있지 않아도 전송 가능하기 위하여)\n",
    "    hwndkakao = win32gui.FindWindow(None, \"카카오톡\") #카카오톡이라는 이름으로 켜져있는 창 선택\n",
    "    hwndkakao_edit1 = win32gui.FindWindowEx( hwndkakao, None, \"EVA_ChildWindow\", None)\n",
    "    #위에서 선택한 카카오톡 안에 EVA_ChildWindow 속성을 가진 창 선택\n",
    "    #EVA_ChildWindow와 같은 값은 visual stuido의 spy++ 같은 tool을 사용해서 확인 가능\n",
    "    hwndkakao_edit2_1 = win32gui.FindWindowEx( hwndkakao_edit1, None, \"EVA_Window\", None)\n",
    "    hwndkakao_edit2_2 = win32gui.FindWindowEx( hwndkakao_edit1, hwndkakao_edit2_1, \"EVA_Window\", None)\n",
    "    #EVA_Window처럼 이름이 같은 속성이 여러 개 있는 경우 한 번 더 호출하면 다음 EVA_Window 선택\n",
    "    hwndkakao_edit3 = win32gui.FindWindowEx( hwndkakao_edit2_2, None, \"Edit\", None)\n",
    "    #Edit는 채팅방 검색창\n",
    "\n",
    "    # # Edit에 검색 _ 입력되어있는 텍스트가 있어도 덮어쓰기됨\n",
    "    win32api.SendMessage(hwndkakao_edit3, win32con.WM_SETTEXT, 0, chatroom_name)\n",
    "    #chatroom_name을 채팅방 검색창에 입력\n",
    "    time.sleep(1)   # 안정성 위해 필요\n",
    "    SendReturn(hwndkakao_edit3) #엔터와 같은 역할, 채팅방이 켜짐\n",
    "    time.sleep(1)"
   ]
  },
  {
   "cell_type": "code",
   "execution_count": 231,
   "id": "f0431f2c",
   "metadata": {},
   "outputs": [],
   "source": [
    "# # 채팅방 내용 내보내기\n",
    "def kakao_export(chatroom_name):\n",
    "    # # 핸들 _ 채팅방\n",
    "    \n",
    "    count = 0\n",
    "    hwndMain = 0\n",
    "    while(hwndMain == 0): #채팅방 열려있는지 확인\n",
    "        time.sleep(0.1)\n",
    "        hwndMain = win32gui.FindWindow( None, chatroom_name)\n",
    "        count += 1\n",
    "        if(count > 1000): #탈출 조건\n",
    "            print(\"can not find chat room\")\n",
    "            return\n",
    "    \n",
    "    time.sleep(1)\n",
    "    count = 0\n",
    "    saveMain = 0\n",
    "    while(saveMain == 0): #다른 이름으로 저장 창 열려있는지 확인\n",
    "        time.sleep(0.1)\n",
    "        PostKeyEx(hwndMain, ord('S'), [w.VK_CONTROL], False) #내보내기 단축키\n",
    "        #PostKeyEx 조합 단축키 누르는 함수, ctrl + s는 채팅방 내보내기 단축키\n",
    "        time.sleep(0.1)\n",
    "        saveMain = win32gui.FindWindow( None, \"다른 이름으로 저장\")\n",
    "        count += 1\n",
    "        if(count > 1000): #탈출 조건\n",
    "            print(\"can not find save window\")\n",
    "            return\n",
    "\n",
    "    time.sleep(1)\n",
    "    saveControl1 = win32gui.FindWindowEx(saveMain, None, \"DUIViewWndClassName\", None)\n",
    "    saveControl2 = win32gui.FindWindowEx(saveControl1, None, \"DirectUIHWND\", None)\n",
    "    saveControl3 = win32gui.FindWindowEx(saveControl2, None, \"FloatNotifySink\", None)\n",
    "    saveControl4 = win32gui.FindWindowEx(saveControl3, None, \"ComboBox\", None)\n",
    "    saveControl5 = win32gui.FindWindowEx(saveControl4, None, \"Edit\", None)\n",
    "    saveButton = win32gui.FindWindowEx(saveMain, None, \"Button\", None) #저장 버튼 선택\n",
    "    time.sleep(1)\n",
    "    \n",
    "    PostKeyEx(saveControl5, ord('C'), [w.VK_CONTROL], False) #기본 이름 복사, 기존 데이터와 이름이 겹치는 것 방지를 위해\n",
    "    time.sleep(1)\n",
    "    win32api.SendMessage(saveControl5, win32con.WM_SETTEXT, 0, \"test#1234#\") #임시, 채팅방 이름과 핀 번호 입력\n",
    "    time.sleep(1)\n",
    "    PressKey(EndKey) #키 누르기\n",
    "    ReleaseKey(EndKey) #키 떼기, 커서 맨 끝으로 이동\n",
    "    time.sleep(1)\n",
    "    PostKeyEx(saveControl5, ord('V'), [w.VK_CONTROL], False) #복사한 기본 이름 붙여넣기\n",
    "    \n",
    "    win32api.SendMessage(saveButton, win32con.BM_CLICK, 0, 0) #위에서 선택한 저장 버튼 클릭\n",
    "    time.sleep(1)\n",
    "    win32api.SendMessage(hwndMain, win32con.WM_CLOSE, 0, 0) #열어놓은 채팅창 닫기"
   ]
  },
  {
   "cell_type": "code",
   "execution_count": 232,
   "id": "70acb9c5",
   "metadata": {},
   "outputs": [],
   "source": [
    "# # 채팅방 최대화로 맨 앞에 띄우기\n",
    "def show_chatroom(chatroom_name):\n",
    "    # # 채팅방 목록 검색하는 Edit (채팅방이 열려있지 않아도 전송 가능하기 위하여)\n",
    "    hwndkakao = win32gui.FindWindow(None, \"카카오톡\")\n",
    "    hwndkakao_edit1 = win32gui.FindWindowEx( hwndkakao, None, \"EVA_ChildWindow\", None)\n",
    "    hwndkakao_edit2_1 = win32gui.FindWindowEx( hwndkakao_edit1, None, \"EVA_Window\", None)\n",
    "    hwndkakao_edit2_2 = win32gui.FindWindowEx( hwndkakao_edit1, hwndkakao_edit2_1, \"EVA_Window\", None)\n",
    "    hwndkakao_edit3 = win32gui.FindWindowEx( hwndkakao_edit2_2, None, \"Edit\", None)\n",
    "\n",
    "    # # Edit에 검색 _ 입력되어있는 텍스트가 있어도 덮어쓰기됨\n",
    "    win32api.SendMessage(hwndkakao_edit3, win32con.WM_SETTEXT, 0, chatroom_name)\n",
    "    time.sleep(1)   # 안정성 위해 필요\n",
    "\n",
    "    win32gui.ShowWindow(hwndkakao, win32con.SW_SHOWMAXIMIZED)\n",
    "    shell = win32com.client.Dispatch(\"WScript.Shell\")\n",
    "    shell.SendKeys('%')\n",
    "    win32gui.SetForegroundWindow(hwndkakao)\n",
    "    \n",
    "    time.sleep(1)\n",
    "    \n",
    "    PostKeyEx(hwndkakao, F10, [w.VK_SHIFT], False)"
   ]
  },
  {
   "cell_type": "code",
   "execution_count": 298,
   "id": "5ecde04a",
   "metadata": {},
   "outputs": [],
   "source": [
    "def test(chatroom_name): #최초로 사용하는 함수. 채팅방이름에 핀 번호 붙이기 단체톡 전용\n",
    "    # # 채팅방 목록 검색하는 Edit (채팅방이 열려있지 않아도 전송 가능하기 위하여)\n",
    "    hwndkakao = win32gui.FindWindow(None, \"카카오톡\")\n",
    "    hwndkakao_edit1 = win32gui.FindWindowEx( hwndkakao, None, \"EVA_ChildWindow\", None)\n",
    "    hwndkakao_edit2_1 = win32gui.FindWindowEx( hwndkakao_edit1, None, \"EVA_Window\", None)\n",
    "    hwndkakao_edit2_2 = win32gui.FindWindowEx( hwndkakao_edit1, hwndkakao_edit2_1, \"EVA_Window\", None)\n",
    "    hwndkakao_edit3 = win32gui.FindWindowEx( hwndkakao_edit2_2, None, \"Edit\", None)\n",
    "\n",
    "    # # Edit에 검색 _ 입력되어있는 텍스트가 있어도 덮어쓰기됨\n",
    "    win32api.SendMessage(hwndkakao_edit3, win32con.WM_SETTEXT, 0, chatroom_name)\n",
    "    time.sleep(1)   # 안정성 위해 필요\n",
    "    SendReturn(hwndkakao_edit3)\n",
    "    time.sleep(1)\n",
    "    #여기까지는 채팅방 열기와 동일한 기능\n",
    "    \n",
    "    hwndMain = win32gui.FindWindow( None, chatroom_name)\n",
    "    #연 채팅방 선택\n",
    "    \n",
    "    time.sleep(5) #안정성 위해\n",
    "    PostKeyEx(hwndMain, ord('B'), [w.VK_CONTROL], False) #채팅방 설정을 보기 위한 단축키 ctrl + b\n",
    "    time.sleep(1)\n",
    "    tttt = win32gui.FindWindow(\"#32770\", None) #채팅방 설정 창 번호: 32770\n",
    "    t1 = win32gui.FindWindowEx( tttt, None, \"EVA_ChildWindow\", None)\n",
    "    t2 = win32gui.FindWindowEx( t1, None, \"Edit\", None) #채팅방 이름이 적혀있는 창\n",
    "    #TO-DO\n",
    "    win32api.SendMessage(t2, win32con.WM_SETTEXT, 0, \"test\") #임시, 설정한 값 채팅방 이름란에 입력\n",
    "    time.sleep(1)\n",
    "    PressKey(Tab)\n",
    "    ReleaseKey(Tab)\n",
    "    time.sleep(1)\n",
    "    PressKey(Tab)\n",
    "    ReleaseKey(Tab)\n",
    "    time.sleep(1)\n",
    "    PressKey(Tab)\n",
    "    ReleaseKey(Tab)\n",
    "    time.sleep(1)\n",
    "    PressKey(Tab)\n",
    "    ReleaseKey(Tab)\n",
    "    time.sleep(1)\n",
    "    PressKey(Enter)\n",
    "    ReleaseKey(Enter)\n",
    "    time.sleep(1) #채팅방 이름 적용을 위한 과정, tab 5번을 통해 커서를 저장으로 이동시키고, enter 통해서 저장 버튼 클릭\n",
    "    \n",
    "    win32api.SendMessage(hwndkakao, win32con.WM_CLOSE, 0, 0) #채팅창 닫기"
   ]
  },
  {
   "cell_type": "code",
   "execution_count": 312,
   "id": "146b6730",
   "metadata": {},
   "outputs": [],
   "source": [
    "def delete_txt():\n",
    "    path = \"C:/Users/USER/Desktop\" #기본적으로 채팅방 내보내기하면 바탕화면에 저장됨\n",
    "    file_list = os.listdir(path) #바탕화면에 위치한 파일 이름들 목록으로 받아옴\n",
    "    print (\"file_list: {}\".format(file_list)) #파일 목록 확인용\n",
    "    \n",
    "    for file in file_list: #파일 목록들 접근해서 파일 마지막이 txt로 끝나면 삭제\n",
    "        if(file[-3:] == 'txt'):\n",
    "            win32api.DeleteFile(path + '/' + file)\n",
    "    \n",
    "    file_list = os.listdir(path)\n",
    "    print (\"file_list: {}\".format(file_list)) #파일 목록 확인용(잘 삭제되었는지)"
   ]
  },
  {
   "cell_type": "code",
   "execution_count": 307,
   "id": "2f024a59",
   "metadata": {},
   "outputs": [],
   "source": [
    "chatroom_list = [] #채팅방 이름을 저장할 배열\n",
    "f = open(\"./chatroom_list.txt\", 'r', encoding='UTF8') #채팅방 이름이 적혀있는 텍스트 파일 열기\n",
    "for line in f:\n",
    "    chatroom_list.append(line.strip()) #텍스트 파일 읽어서 chatroom_list에 채팅방 이름들 저장"
   ]
  },
  {
   "cell_type": "code",
   "execution_count": 308,
   "id": "d80e5a9a",
   "metadata": {},
   "outputs": [],
   "source": [
    "for chatroom in chatroom_list: #chatroom_list에 저장된 채팅방 목록들에 접근\n",
    "   open_chatroom(chatroom) #채팅방 열기\n",
    "   kakao_export(chatroom) #채팅방 내보내기"
   ]
  },
  {
   "cell_type": "code",
   "execution_count": 309,
   "id": "330529f2",
   "metadata": {},
   "outputs": [],
   "source": [
    "for chatroom in chatroom_list:\n",
    "    test(chatroom) #채팅방 이름 변경"
   ]
  },
  {
   "cell_type": "code",
   "execution_count": 313,
   "id": "346dccf4",
   "metadata": {},
   "outputs": [
    {
     "name": "stdout",
     "output_type": "stream",
     "text": [
      "file_list: ['desktop.ini']\n",
      "file_list: ['desktop.ini']\n"
     ]
    }
   ],
   "source": [
    "delete_txt() #이전 채팅방 내보내기 파일들 삭제 #채팅방 내보내기 하기 전에 사용될 함수"
   ]
  },
  {
   "cell_type": "code",
   "execution_count": null,
   "id": "f474eef0",
   "metadata": {},
   "outputs": [],
   "source": [
    "#핀번호 올리고 DB 핀번호나 채팅방 이름 등록"
   ]
  }
 ],
 "metadata": {
  "kernelspec": {
   "display_name": "wskn",
   "language": "python",
   "name": "workspace"
  },
  "language_info": {
   "codemirror_mode": {
    "name": "ipython",
    "version": 3
   },
   "file_extension": ".py",
   "mimetype": "text/x-python",
   "name": "python",
   "nbconvert_exporter": "python",
   "pygments_lexer": "ipython3",
   "version": "3.10.13"
  }
 },
 "nbformat": 4,
 "nbformat_minor": 5
}
